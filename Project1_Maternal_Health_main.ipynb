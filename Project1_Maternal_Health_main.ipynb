{
 "cells": [
  {
   "cell_type": "markdown",
   "id": "65af9cf9-12ab-4ea9-8dd7-19b9a885c379",
   "metadata": {},
   "source": [
    "# Project 1: An Analysis of Maternal Health Outcomes in America\n",
    "## by Group 7: Mia Metni, Khadija Collymore and Christopher Wiggs\n",
    "## 1. Research Question\n",
    "### Are maternal mortality rates of women in America highest among black women (as opposed to women with other racial backgrounds)?\n",
    "\n",
    "## 2. Hypothesis\n",
    "### The elevated maternal mortality rates among black women in the United States compared to other racial groups stem from a complex interplay of factors:\n",
    "- healthcare disparities, \n",
    "- socio-economic factors, \n",
    "- systemic biases, \n",
    "- limited access to quality healthcare, \n",
    "- economic inequality, \n",
    "- racial biases within healthcare systems \n",
    "\n"
   ]
  },
  {
   "cell_type": "code",
   "execution_count": 4,
   "id": "3253b955-8cd7-498c-b5c7-c959ed41c449",
   "metadata": {},
   "outputs": [],
   "source": [
    "import numpy as np\n",
    "import pandas as pd\n",
    "import matplotlib.pyplot as plt\n",
    "import requests\n",
    "import time\n",
    "from scipy.stats import linregress"
   ]
  },
  {
   "cell_type": "code",
   "execution_count": null,
   "id": "76710c2b-9e9b-4c6b-aca4-5e6f8b21101d",
   "metadata": {},
   "outputs": [],
   "source": []
  }
 ],
 "metadata": {
  "kernelspec": {
   "display_name": "Python 3 (ipykernel)",
   "language": "python",
   "name": "python3"
  },
  "language_info": {
   "codemirror_mode": {
    "name": "ipython",
    "version": 3
   },
   "file_extension": ".py",
   "mimetype": "text/x-python",
   "name": "python",
   "nbconvert_exporter": "python",
   "pygments_lexer": "ipython3",
   "version": "3.11.5"
  }
 },
 "nbformat": 4,
 "nbformat_minor": 5
}
